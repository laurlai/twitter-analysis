{
 "cells": [
  {
   "cell_type": "markdown",
   "metadata": {},
   "source": [
    "# Getting to Know the Twitter API\n",
    "\n",
    "Twitter is a goldmine for unstructured text data. The purpose of this notebook is to familiarize myself with how to associate with the Twitter API as well as practice natrual language processing techniques. "
   ]
  },
  {
   "cell_type": "code",
   "execution_count": 1,
   "metadata": {},
   "outputs": [],
   "source": [
    "import json\n",
    "import pandas as pd\n",
    "import tweepy"
   ]
  },
  {
   "cell_type": "code",
   "execution_count": 2,
   "metadata": {},
   "outputs": [],
   "source": [
    "'''\n",
    "OAuth Process\n",
    "With keys, tokens, setting up instance of API\n",
    "Adapted from https://medium.freecodecamp.org/basic-data-analysis-on-twitter-with-python-251c2a85062e\n",
    "'''\n",
    "\n",
    "def load_api():\n",
    "    # Credentials\n",
    "    # Mine have been scrubbed--if you want to try this out, insert your own keys :)\n",
    "    consumer_key = ''\n",
    "    consumer_secret = ''\n",
    "    access_token = ''\n",
    "    access_token_secret = ''\n",
    "\n",
    "    # Authorization\n",
    "    auth = tweepy.OAuthHandler(consumer_key, consumer_secret)\n",
    "    auth.set_access_token(access_token, access_token_secret)\n",
    "    return tweepy.API(auth)"
   ]
  },
  {
   "cell_type": "markdown",
   "metadata": {},
   "source": [
    "## Mining the Tweets and Making a Dataframe\n",
    "\n",
    "I'll be mining a small number of tweets from a specific user to see how I can manipulate the text and what analysis I can perform. The Twitter API status objects are very well organized into relevant categorical data."
   ]
  },
  {
   "cell_type": "code",
   "execution_count": 3,
   "metadata": {},
   "outputs": [],
   "source": [
    "'''\n",
    "Get the Tweets\n",
    "'''\n",
    "\n",
    "api = load_api()\n",
    "\n",
    "def grab_tweets(handle, limit=100):\n",
    "    tweets = pd.DataFrame(columns=['created_at', 'user', 'tweet_id', 'text', 'retweet_count'])\n",
    "\n",
    "    for status in tweepy.Cursor(api.user_timeline, id=handle, include_rts=False, exclude_replies=True).items(limit):\n",
    "        tweets = tweets.append({'created_at' : status.created_at, 'user' : status.user.name, 'tweet_id' : status.id, \\\n",
    "                                'text' : status.text, 'retweet_count' : status.retweet_count}, ignore_index=True)\n",
    "    return tweets"
   ]
  },
  {
   "cell_type": "code",
   "execution_count": 4,
   "metadata": {
    "scrolled": true
   },
   "outputs": [],
   "source": [
    "trump_tweets = grab_tweets('realDonaldTrump')"
   ]
  },
  {
   "cell_type": "markdown",
   "metadata": {},
   "source": [
    "## Sentiment Analysis with TextBlob\n",
    "\n",
    "TextBlob is a library used to processing text data. It is a powerful tool that can tag parts of speech, extract noun phrases, and analyze sentiment among others. I want to perform a simple correlation between sentiment and retweet count of this user's text. \n",
    "\n",
    "The sentiment analysis provides two values: polarity [-1.0, 1.0] and subjectivity [0.0, 1.0]."
   ]
  },
  {
   "cell_type": "code",
   "execution_count": 5,
   "metadata": {},
   "outputs": [],
   "source": [
    "'''\n",
    "Sentiment Analysis with TextBlob\n",
    "Adapted from https://www.analyticsvidhya.com/blog/2018/02/natural-language-processing-for-beginners-using-textblob/\n",
    "'''\n",
    "from textblob import TextBlob\n",
    "\n",
    "# Add sentiment scores to dataframe\n",
    "trump_tweets['polarity'] = trump_tweets['text'].apply(lambda x: TextBlob(x).sentiment.polarity)\n",
    "trump_tweets['subjectivity'] = trump_tweets['text'].apply(lambda x: TextBlob(x).sentiment.subjectivity)"
   ]
  },
  {
   "cell_type": "code",
   "execution_count": 6,
   "metadata": {},
   "outputs": [
    {
     "data": {
      "text/html": [
       "<div>\n",
       "<style scoped>\n",
       "    .dataframe tbody tr th:only-of-type {\n",
       "        vertical-align: middle;\n",
       "    }\n",
       "\n",
       "    .dataframe tbody tr th {\n",
       "        vertical-align: top;\n",
       "    }\n",
       "\n",
       "    .dataframe thead th {\n",
       "        text-align: right;\n",
       "    }\n",
       "</style>\n",
       "<table border=\"1\" class=\"dataframe\">\n",
       "  <thead>\n",
       "    <tr style=\"text-align: right;\">\n",
       "      <th></th>\n",
       "      <th>created_at</th>\n",
       "      <th>user</th>\n",
       "      <th>tweet_id</th>\n",
       "      <th>text</th>\n",
       "      <th>retweet_count</th>\n",
       "      <th>polarity</th>\n",
       "      <th>subjectivity</th>\n",
       "    </tr>\n",
       "  </thead>\n",
       "  <tbody>\n",
       "    <tr>\n",
       "      <th>0</th>\n",
       "      <td>2018-10-12 18:09:17</td>\n",
       "      <td>Donald J. Trump</td>\n",
       "      <td>1050810652271529984</td>\n",
       "      <td>People have no idea how hard Hurricane Michael...</td>\n",
       "      <td>4158</td>\n",
       "      <td>0.254167</td>\n",
       "      <td>0.645833</td>\n",
       "    </tr>\n",
       "    <tr>\n",
       "      <th>1</th>\n",
       "      <td>2018-10-12 16:43:13</td>\n",
       "      <td>Donald J. Trump</td>\n",
       "      <td>1050788995377049601</td>\n",
       "      <td>PROMISES MADE, PROMISES KEPT! https://t.co/2lk...</td>\n",
       "      <td>8477</td>\n",
       "      <td>0.000000</td>\n",
       "      <td>0.000000</td>\n",
       "    </tr>\n",
       "    <tr>\n",
       "      <th>2</th>\n",
       "      <td>2018-10-12 15:57:52</td>\n",
       "      <td>Donald J. Trump</td>\n",
       "      <td>1050777580553588738</td>\n",
       "      <td>REGISTER TO VOTE! https://t.co/0pWiwCHGbh http...</td>\n",
       "      <td>7173</td>\n",
       "      <td>0.000000</td>\n",
       "      <td>0.000000</td>\n",
       "    </tr>\n",
       "    <tr>\n",
       "      <th>3</th>\n",
       "      <td>2018-10-12 14:26:00</td>\n",
       "      <td>Donald J. Trump</td>\n",
       "      <td>1050754462405537798</td>\n",
       "      <td>PASTOR BRUNSON JUST RELEASED. WILL BE HOME SOON!</td>\n",
       "      <td>18847</td>\n",
       "      <td>0.000000</td>\n",
       "      <td>0.000000</td>\n",
       "    </tr>\n",
       "    <tr>\n",
       "      <th>4</th>\n",
       "      <td>2018-10-12 13:59:06</td>\n",
       "      <td>Donald J. Trump</td>\n",
       "      <td>1050747691062493185</td>\n",
       "      <td>My thoughts and prayers are with Pastor Brunso...</td>\n",
       "      <td>9127</td>\n",
       "      <td>0.000000</td>\n",
       "      <td>0.000000</td>\n",
       "    </tr>\n",
       "  </tbody>\n",
       "</table>\n",
       "</div>"
      ],
      "text/plain": [
       "           created_at             user             tweet_id  \\\n",
       "0 2018-10-12 18:09:17  Donald J. Trump  1050810652271529984   \n",
       "1 2018-10-12 16:43:13  Donald J. Trump  1050788995377049601   \n",
       "2 2018-10-12 15:57:52  Donald J. Trump  1050777580553588738   \n",
       "3 2018-10-12 14:26:00  Donald J. Trump  1050754462405537798   \n",
       "4 2018-10-12 13:59:06  Donald J. Trump  1050747691062493185   \n",
       "\n",
       "                                                text retweet_count  polarity  \\\n",
       "0  People have no idea how hard Hurricane Michael...          4158  0.254167   \n",
       "1  PROMISES MADE, PROMISES KEPT! https://t.co/2lk...          8477  0.000000   \n",
       "2  REGISTER TO VOTE! https://t.co/0pWiwCHGbh http...          7173  0.000000   \n",
       "3   PASTOR BRUNSON JUST RELEASED. WILL BE HOME SOON!         18847  0.000000   \n",
       "4  My thoughts and prayers are with Pastor Brunso...          9127  0.000000   \n",
       "\n",
       "   subjectivity  \n",
       "0      0.645833  \n",
       "1      0.000000  \n",
       "2      0.000000  \n",
       "3      0.000000  \n",
       "4      0.000000  "
      ]
     },
     "execution_count": 6,
     "metadata": {},
     "output_type": "execute_result"
    }
   ],
   "source": [
    "trump_tweets.head()"
   ]
  },
  {
   "cell_type": "code",
   "execution_count": 7,
   "metadata": {},
   "outputs": [
    {
     "data": {
      "text/html": [
       "<div>\n",
       "<style scoped>\n",
       "    .dataframe tbody tr th:only-of-type {\n",
       "        vertical-align: middle;\n",
       "    }\n",
       "\n",
       "    .dataframe tbody tr th {\n",
       "        vertical-align: top;\n",
       "    }\n",
       "\n",
       "    .dataframe thead th {\n",
       "        text-align: right;\n",
       "    }\n",
       "</style>\n",
       "<table border=\"1\" class=\"dataframe\">\n",
       "  <thead>\n",
       "    <tr style=\"text-align: right;\">\n",
       "      <th></th>\n",
       "      <th>polarity</th>\n",
       "      <th>subjectivity</th>\n",
       "    </tr>\n",
       "  </thead>\n",
       "  <tbody>\n",
       "    <tr>\n",
       "      <th>count</th>\n",
       "      <td>100.000000</td>\n",
       "      <td>100.000000</td>\n",
       "    </tr>\n",
       "    <tr>\n",
       "      <th>mean</th>\n",
       "      <td>0.269573</td>\n",
       "      <td>0.403643</td>\n",
       "    </tr>\n",
       "    <tr>\n",
       "      <th>std</th>\n",
       "      <td>0.373378</td>\n",
       "      <td>0.343753</td>\n",
       "    </tr>\n",
       "    <tr>\n",
       "      <th>min</th>\n",
       "      <td>-0.500000</td>\n",
       "      <td>0.000000</td>\n",
       "    </tr>\n",
       "    <tr>\n",
       "      <th>25%</th>\n",
       "      <td>0.000000</td>\n",
       "      <td>0.000000</td>\n",
       "    </tr>\n",
       "    <tr>\n",
       "      <th>50%</th>\n",
       "      <td>0.121591</td>\n",
       "      <td>0.472917</td>\n",
       "    </tr>\n",
       "    <tr>\n",
       "      <th>75%</th>\n",
       "      <td>0.556250</td>\n",
       "      <td>0.650568</td>\n",
       "    </tr>\n",
       "    <tr>\n",
       "      <th>max</th>\n",
       "      <td>1.000000</td>\n",
       "      <td>1.000000</td>\n",
       "    </tr>\n",
       "  </tbody>\n",
       "</table>\n",
       "</div>"
      ],
      "text/plain": [
       "         polarity  subjectivity\n",
       "count  100.000000    100.000000\n",
       "mean     0.269573      0.403643\n",
       "std      0.373378      0.343753\n",
       "min     -0.500000      0.000000\n",
       "25%      0.000000      0.000000\n",
       "50%      0.121591      0.472917\n",
       "75%      0.556250      0.650568\n",
       "max      1.000000      1.000000"
      ]
     },
     "execution_count": 7,
     "metadata": {},
     "output_type": "execute_result"
    }
   ],
   "source": [
    "trump_tweets.describe()"
   ]
  }
 ],
 "metadata": {
  "kernelspec": {
   "display_name": "Python 3",
   "language": "python",
   "name": "python3"
  },
  "language_info": {
   "codemirror_mode": {
    "name": "ipython",
    "version": 3
   },
   "file_extension": ".py",
   "mimetype": "text/x-python",
   "name": "python",
   "nbconvert_exporter": "python",
   "pygments_lexer": "ipython3",
   "version": "3.6.5"
  }
 },
 "nbformat": 4,
 "nbformat_minor": 2
}
